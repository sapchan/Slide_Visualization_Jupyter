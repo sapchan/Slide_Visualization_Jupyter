{
 "cells": [
  {
   "cell_type": "code",
   "execution_count": 1,
   "metadata": {},
   "outputs": [
    {
     "name": "stderr",
     "output_type": "stream",
     "text": [
      "Bad val 'TkAgg or echo backend : Agg' on line #1\n",
      "\t\"backend : TkAgg or echo backend : Agg\n",
      "\"\n",
      "\tin file \"/Users/sapchan/.matplotlib/matplotlibrc\"\n",
      "\tKey backend: Unrecognized backend string 'tkagg or echo backend : agg': valid strings are ['GTK3Agg', 'GTK3Cairo', 'MacOSX', 'nbAgg', 'Qt4Agg', 'Qt4Cairo', 'Qt5Agg', 'Qt5Cairo', 'TkAgg', 'TkCairo', 'WebAgg', 'WX', 'WXAgg', 'WXCairo', 'agg', 'cairo', 'pdf', 'pgf', 'ps', 'svg', 'template']\n"
     ]
    }
   ],
   "source": [
    "import numpy as np\n",
    "import cv2\n",
    "import scipy as scp\n",
    "import openslide as ops\n",
    "from openslide import deepzoom\n",
    "from Parse_Xml import Parse_Xml\n",
    "import matplotlib.pyplot as plt\n",
    "import PIL"
   ]
  },
  {
   "cell_type": "code",
   "execution_count": 190,
   "metadata": {},
   "outputs": [],
   "source": [
    "#slide = ops.open_slide('examples/36724.svs')\n",
    "slide = ops.open_slide(\"examples/36724.svs\")"
   ]
  },
  {
   "cell_type": "code",
   "execution_count": 168,
   "metadata": {},
   "outputs": [
    {
     "data": {
      "text/plain": [
       "18"
      ]
     },
     "execution_count": 168,
     "metadata": {},
     "output_type": "execute_result"
    }
   ],
   "source": [
    "dz = deepzoom.DeepZoomGenerator(slide,tile_size=1024,overlap=0, limit_bounds=True)\n",
    "dz.level_count"
   ]
  },
  {
   "cell_type": "code",
   "execution_count": 173,
   "metadata": {},
   "outputs": [
    {
     "data": {
      "text/plain": [
       "((46491, 70619), 1, (2049, 2049))"
      ]
     },
     "execution_count": 173,
     "metadata": {},
     "output_type": "execute_result"
    }
   ],
   "source": [
    "dz.get_tile_coordinates(14,(0,0))\n",
    "#45978\n",
    "#46234"
   ]
  },
  {
   "cell_type": "code",
   "execution_count": 180,
   "metadata": {},
   "outputs": [
    {
     "data": {
      "text/plain": [
       "'70619'"
      ]
     },
     "execution_count": 180,
     "metadata": {},
     "output_type": "execute_result"
    }
   ],
   "source": [
    "slide.properties['openslide.bounds-x']\n",
    "slide.properties['openslide.bounds-y']\n",
    "slide.read_region((0, 70619), 1, (2049, 2049))"
   ]
  },
  {
   "cell_type": "code",
   "execution_count": 6,
   "metadata": {},
   "outputs": [
    {
     "name": "stdout",
     "output_type": "stream",
     "text": [
      "Annotation Colors Present:\n",
      "65280\n"
     ]
    }
   ],
   "source": [
    "pxml = Parse_Xml(\"examples/GLEE029.xml\",\"examples/GLEE029.scn\")"
   ]
  },
  {
   "cell_type": "code",
   "execution_count": 7,
   "metadata": {},
   "outputs": [],
   "source": [
    "mask = pxml.create_mask_for_color(65280)\n",
    "#roi = pxml.extract_ROI(65280)"
   ]
  },
  {
   "cell_type": "code",
   "execution_count": 181,
   "metadata": {},
   "outputs": [],
   "source": [
    "(min_x, min_y, max_x, max_y) = pxml.get_bounding_box_around_mask(65280)\n",
    "x = min_x + int(slide.properties['openslide.bounds-x'])\n",
    "y = min_y + int(slide.properties['openslide.bounds-y'])\n",
    "w = max_x - min_x\n",
    "h = max_y - min_y\n",
    "slide = ops.open_slide(pxml.svsPath)"
   ]
  },
  {
   "cell_type": "code",
   "execution_count": 183,
   "metadata": {},
   "outputs": [],
   "source": [
    "roi = slide.read_region((x,y),0,(w,h))"
   ]
  },
  {
   "cell_type": "code",
   "execution_count": 185,
   "metadata": {},
   "outputs": [],
   "source": [
    "roi = np.array(roi)"
   ]
  },
  {
   "cell_type": "code",
   "execution_count": 8,
   "metadata": {},
   "outputs": [
    {
     "data": {
      "image/png": "[encoded data removed]",
      "text/plain": [
       "<Figure size 432x288 with 1 Axes>"
      ]
     },
     "metadata": {
      "needs_background": "light"
     },
     "output_type": "display_data"
    }
   ],
   "source": [
    "plt.figure()\n",
    "plt.imshow(mask) \n",
    "plt.show()"
   ]
  },
  {
   "cell_type": "code",
   "execution_count": 186,
   "metadata": {},
   "outputs": [
    {
     "data": {
      "text/plain": [
       "(11276, 10634, 4)"
      ]
     },
     "execution_count": 186,
     "metadata": {},
     "output_type": "execute_result"
    }
   ],
   "source": [
    "roi.shape"
   ]
  },
  {
   "cell_type": "code",
   "execution_count": 187,
   "metadata": {},
   "outputs": [
    {
     "data": {
      "text/plain": [
       "(11276, 10634)"
      ]
     },
     "execution_count": 187,
     "metadata": {},
     "output_type": "execute_result"
    }
   ],
   "source": [
    "mask.shape"
   ]
  },
  {
   "cell_type": "code",
   "execution_count": 191,
   "metadata": {},
   "outputs": [
    {
     "data": {
      "text/plain": [
       "<_PropertyMap {'aperio.AppMag': '20', 'aperio.DSR ID': 'uphs-lab-aperio', 'aperio.Date': '11/13/13', 'aperio.DisplayColor': '0', 'aperio.Exposure Scale': '0.000001', 'aperio.Exposure Time': '109', 'aperio.Filename': '36724', 'aperio.Focus Offset': '0.000000', 'aperio.ICC Profile': 'ScanScope v1', 'aperio.ImageID': '36724', 'aperio.Left': '27.939253', 'aperio.LineAreaXOffset': '0.029961', 'aperio.LineAreaYOffset': '-0.045777', 'aperio.LineCameraSkew': '-0.000167', 'aperio.MPP': '0.5009', 'aperio.OriginalHeight': '28806', 'aperio.OriginalWidth': '38760', 'aperio.Parmset': 'FAINT', 'aperio.ScanScope ID': 'SS5135', 'aperio.StripeWidth': '2040', 'aperio.Time': '09:47:12', 'aperio.Time Zone': 'GMT-05:00', 'aperio.Top': '19.885866', 'aperio.User': '40355cf6-7c34-4ef0-bd1f-9c065f0eeb22', 'openslide.comment': 'Aperio Image Library v10.2.41\\r\\n38760x28806 [0,100 37968x28706] (256x256) JPEG/RGB Q=70|AppMag = 20|StripeWidth = 2040|ScanScope ID = SS5135|Filename = 36724|Date = 11/13/13|Time = 09:47:12|Time Zone = GMT-05:00|User = 40355cf6-7c34-4ef0-bd1f-9c065f0eeb22|Parmset = FAINT|MPP = 0.5009|Left = 27.939253|Top = 19.885866|LineCameraSkew = -0.000167|LineAreaXOffset = 0.029961|LineAreaYOffset = -0.045777|Focus Offset = 0.000000|DSR ID = uphs-lab-aperio|ImageID = 36724|Exposure Time = 109|Exposure Scale = 0.000001|DisplayColor = 0|OriginalWidth = 38760|OriginalHeight = 28806|ICC Profile = ScanScope v1', 'openslide.level-count': '3', 'openslide.level[0].downsample': '1', 'openslide.level[0].height': '28706', 'openslide.level[0].tile-height': '256', 'openslide.level[0].tile-width': '256', 'openslide.level[0].width': '37968', 'openslide.level[1].downsample': '4.0001393534002228', 'openslide.level[1].height': '7176', 'openslide.level[1].tile-height': '256', 'openslide.level[1].tile-width': '256', 'openslide.level[1].width': '9492', 'openslide.level[2].downsample': '16.000557413600891', 'openslide.level[2].height': '1794', 'openslide.level[2].tile-height': '256', 'openslide.level[2].tile-width': '256', 'openslide.level[2].width': '2373', 'openslide.mpp-x': '0.50090000000000001', 'openslide.mpp-y': '0.50090000000000001', 'openslide.objective-power': '20', 'openslide.quickhash-1': '40b73db0c00cebcc9a745d0d906ae687bfbfc8e82b855394db684ab3a6d14998', 'openslide.vendor': 'aperio', 'tiff.ImageDescription': 'Aperio Image Library v10.2.41\\r\\n38760x28806 [0,100 37968x28706] (256x256) JPEG/RGB Q=70|AppMag = 20|StripeWidth = 2040|ScanScope ID = SS5135|Filename = 36724|Date = 11/13/13|Time = 09:47:12|Time Zone = GMT-05:00|User = 40355cf6-7c34-4ef0-bd1f-9c065f0eeb22|Parmset = FAINT|MPP = 0.5009|Left = 27.939253|Top = 19.885866|LineCameraSkew = -0.000167|LineAreaXOffset = 0.029961|LineAreaYOffset = -0.045777|Focus Offset = 0.000000|DSR ID = uphs-lab-aperio|ImageID = 36724|Exposure Time = 109|Exposure Scale = 0.000001|DisplayColor = 0|OriginalWidth = 38760|OriginalHeight = 28806|ICC Profile = ScanScope v1', 'tiff.ResolutionUnit': 'inch'}>"
      ]
     },
     "execution_count": 191,
     "metadata": {},
     "output_type": "execute_result"
    }
   ],
   "source": [
    "slide.properties['openslide.bounds-x']"
   ]
  },
  {
   "cell_type": "code",
   "execution_count": null,
   "metadata": {},
   "outputs": [],
   "source": []
  },
  {
   "cell_type": "code",
   "execution_count": null,
   "metadata": {},
   "outputs": [],
   "source": []
  },
  {
   "cell_type": "code",
   "execution_count": null,
   "metadata": {},
   "outputs": [],
   "source": []
  }
 ],
 "metadata": {
  "kernelspec": {
   "display_name": "Python 3",
   "language": "python",
   "name": "python3"
  },
  "language_info": {
   "codemirror_mode": {
    "name": "ipython",
    "version": 3
   },
   "file_extension": ".py",
   "mimetype": "text/x-python",
   "name": "python",
   "nbconvert_exporter": "python",
   "pygments_lexer": "ipython3",
   "version": "3.7.3"
  }
 },
 "nbformat": 4,
 "nbformat_minor": 2
}
