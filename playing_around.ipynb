{
 "cells": [
  {
   "cell_type": "code",
   "execution_count": 1,
   "metadata": {},
   "outputs": [],
   "source": [
    "import numpy as np\n",
    "import cv2\n",
    "import scipy as scp\n",
    "import openslide as ops\n",
    "from ViewSlide import ViewSlide"
   ]
  },
  {
   "cell_type": "code",
   "execution_count": 2,
   "metadata": {},
   "outputs": [
    {
     "name": "stdout",
     "output_type": "stream",
     "text": [
      "500\n",
      "550\n",
      "605\n",
      "665\n",
      "731\n",
      "804\n",
      "884\n",
      "972\n",
      "1069\n",
      "1175\n",
      "1292\n",
      "1421\n",
      "1563\n",
      "1407\n",
      "1267\n",
      "1393\n",
      "1254\n",
      "1379\n",
      "1516\n",
      "1667\n",
      "1833\n",
      "119\n",
      "119\n",
      "2016\n",
      "1815\n",
      "1634\n",
      "1471\n",
      "119\n",
      "100\n",
      "100\n",
      "100\n",
      "115\n",
      "115\n",
      "115\n",
      "115\n",
      "97\n",
      "97\n",
      "97\n",
      "97\n",
      "97\n",
      "97\n",
      "97\n",
      "119\n",
      "113\n"
     ]
    },
    {
     "data": {
      "text/plain": [
       "<ViewSlide.ViewSlide at 0x116e5c320>"
      ]
     },
     "execution_count": 2,
     "metadata": {},
     "output_type": "execute_result"
    }
   ],
   "source": [
    "ViewSlide('examples/38532.svs')"
   ]
  },
  {
   "cell_type": "code",
   "execution_count": null,
   "metadata": {},
   "outputs": [],
   "source": []
  },
  {
   "cell_type": "code",
   "execution_count": null,
   "metadata": {},
   "outputs": [],
   "source": []
  },
  {
   "cell_type": "code",
   "execution_count": null,
   "metadata": {},
   "outputs": [],
   "source": []
  },
  {
   "cell_type": "code",
   "execution_count": null,
   "metadata": {},
   "outputs": [],
   "source": []
  },
  {
   "cell_type": "code",
   "execution_count": null,
   "metadata": {},
   "outputs": [],
   "source": []
  },
  {
   "cell_type": "code",
   "execution_count": null,
   "metadata": {},
   "outputs": [],
   "source": []
  }
 ],
 "metadata": {
  "kernelspec": {
   "display_name": "Python 3",
   "language": "python",
   "name": "python3"
  },
  "language_info": {
   "codemirror_mode": {
    "name": "ipython",
    "version": 3
   },
   "file_extension": ".py",
   "mimetype": "text/x-python",
   "name": "python",
   "nbconvert_exporter": "python",
   "pygments_lexer": "ipython3",
   "version": "3.7.3"
  }
 },
 "nbformat": 4,
 "nbformat_minor": 2
}
